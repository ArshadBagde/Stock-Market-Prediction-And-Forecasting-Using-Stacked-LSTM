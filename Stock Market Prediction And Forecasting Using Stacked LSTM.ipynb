{
 "cells": [
  {
   "cell_type": "markdown",
   "id": "3b6d6d37",
   "metadata": {},
   "source": [
    "# LetsGrowMoreVIP-Data Science Intern"
   ]
  },
  {
   "cell_type": "markdown",
   "id": "58cbbc81",
   "metadata": {},
   "source": [
    "# Author-Arshad Bagde"
   ]
  },
  {
   "cell_type": "markdown",
   "id": "79c7fff0",
   "metadata": {},
   "source": [
    "### Stock Market Prediction And Forecasting Using Stacked LSTM(BEGINNER LEVEL TASK)\n",
    "1-Collect Stock Data,\n",
    "2-Visualize,\n",
    "3-splitting dataset into train and test split,\n",
    "4-Stacked LSTM model,\n",
    "5-Prediction,\n",
    "6-Plotting."
   ]
  },
  {
   "cell_type": "code",
   "execution_count": 101,
   "id": "c43f6034",
   "metadata": {},
   "outputs": [],
   "source": [
    "#Data Set:- https://www.canva.com/link?target=https%3A%2F%2Fraw.githubusercontent.com%2Fmwitiderrick%2Fstockprice%2Fmaster%2FNSE-TATAGLOBAL.csv&design=DAEjrwWV35w"
   ]
  },
  {
   "cell_type": "code",
   "execution_count": 102,
   "id": "645b9ec1",
   "metadata": {},
   "outputs": [],
   "source": [
    "#Data Collection"
   ]
  },
  {
   "cell_type": "code",
   "execution_count": 103,
   "id": "59ee74d4",
   "metadata": {},
   "outputs": [],
   "source": [
    "import pandas as pd"
   ]
  },
  {
   "cell_type": "code",
   "execution_count": 104,
   "id": "180aa70b",
   "metadata": {},
   "outputs": [],
   "source": [
    "df = pd.read_csv('https://raw.githubusercontent.com/mwitiderrick/stockprice/master/NSE-TATAGLOBAL.csv')"
   ]
  },
  {
   "cell_type": "code",
   "execution_count": 105,
   "id": "c62202f5",
   "metadata": {},
   "outputs": [
    {
     "data": {
      "text/html": [
       "<div>\n",
       "<style scoped>\n",
       "    .dataframe tbody tr th:only-of-type {\n",
       "        vertical-align: middle;\n",
       "    }\n",
       "\n",
       "    .dataframe tbody tr th {\n",
       "        vertical-align: top;\n",
       "    }\n",
       "\n",
       "    .dataframe thead th {\n",
       "        text-align: right;\n",
       "    }\n",
       "</style>\n",
       "<table border=\"1\" class=\"dataframe\">\n",
       "  <thead>\n",
       "    <tr style=\"text-align: right;\">\n",
       "      <th></th>\n",
       "      <th>Date</th>\n",
       "      <th>Open</th>\n",
       "      <th>High</th>\n",
       "      <th>Low</th>\n",
       "      <th>Last</th>\n",
       "      <th>Close</th>\n",
       "      <th>Total Trade Quantity</th>\n",
       "      <th>Turnover (Lacs)</th>\n",
       "    </tr>\n",
       "  </thead>\n",
       "  <tbody>\n",
       "    <tr>\n",
       "      <th>0</th>\n",
       "      <td>2018-09-28</td>\n",
       "      <td>234.05</td>\n",
       "      <td>235.95</td>\n",
       "      <td>230.20</td>\n",
       "      <td>233.50</td>\n",
       "      <td>233.75</td>\n",
       "      <td>3069914</td>\n",
       "      <td>7162.35</td>\n",
       "    </tr>\n",
       "    <tr>\n",
       "      <th>1</th>\n",
       "      <td>2018-09-27</td>\n",
       "      <td>234.55</td>\n",
       "      <td>236.80</td>\n",
       "      <td>231.10</td>\n",
       "      <td>233.80</td>\n",
       "      <td>233.25</td>\n",
       "      <td>5082859</td>\n",
       "      <td>11859.95</td>\n",
       "    </tr>\n",
       "    <tr>\n",
       "      <th>2</th>\n",
       "      <td>2018-09-26</td>\n",
       "      <td>240.00</td>\n",
       "      <td>240.00</td>\n",
       "      <td>232.50</td>\n",
       "      <td>235.00</td>\n",
       "      <td>234.25</td>\n",
       "      <td>2240909</td>\n",
       "      <td>5248.60</td>\n",
       "    </tr>\n",
       "    <tr>\n",
       "      <th>3</th>\n",
       "      <td>2018-09-25</td>\n",
       "      <td>233.30</td>\n",
       "      <td>236.75</td>\n",
       "      <td>232.00</td>\n",
       "      <td>236.25</td>\n",
       "      <td>236.10</td>\n",
       "      <td>2349368</td>\n",
       "      <td>5503.90</td>\n",
       "    </tr>\n",
       "    <tr>\n",
       "      <th>4</th>\n",
       "      <td>2018-09-24</td>\n",
       "      <td>233.55</td>\n",
       "      <td>239.20</td>\n",
       "      <td>230.75</td>\n",
       "      <td>234.00</td>\n",
       "      <td>233.30</td>\n",
       "      <td>3423509</td>\n",
       "      <td>7999.55</td>\n",
       "    </tr>\n",
       "    <tr>\n",
       "      <th>...</th>\n",
       "      <td>...</td>\n",
       "      <td>...</td>\n",
       "      <td>...</td>\n",
       "      <td>...</td>\n",
       "      <td>...</td>\n",
       "      <td>...</td>\n",
       "      <td>...</td>\n",
       "      <td>...</td>\n",
       "    </tr>\n",
       "    <tr>\n",
       "      <th>2030</th>\n",
       "      <td>2010-07-27</td>\n",
       "      <td>117.60</td>\n",
       "      <td>119.50</td>\n",
       "      <td>112.00</td>\n",
       "      <td>118.80</td>\n",
       "      <td>118.65</td>\n",
       "      <td>586100</td>\n",
       "      <td>694.98</td>\n",
       "    </tr>\n",
       "    <tr>\n",
       "      <th>2031</th>\n",
       "      <td>2010-07-26</td>\n",
       "      <td>120.10</td>\n",
       "      <td>121.00</td>\n",
       "      <td>117.10</td>\n",
       "      <td>117.10</td>\n",
       "      <td>117.60</td>\n",
       "      <td>658440</td>\n",
       "      <td>780.01</td>\n",
       "    </tr>\n",
       "    <tr>\n",
       "      <th>2032</th>\n",
       "      <td>2010-07-23</td>\n",
       "      <td>121.80</td>\n",
       "      <td>121.95</td>\n",
       "      <td>120.25</td>\n",
       "      <td>120.35</td>\n",
       "      <td>120.65</td>\n",
       "      <td>281312</td>\n",
       "      <td>340.31</td>\n",
       "    </tr>\n",
       "    <tr>\n",
       "      <th>2033</th>\n",
       "      <td>2010-07-22</td>\n",
       "      <td>120.30</td>\n",
       "      <td>122.00</td>\n",
       "      <td>120.25</td>\n",
       "      <td>120.75</td>\n",
       "      <td>120.90</td>\n",
       "      <td>293312</td>\n",
       "      <td>355.17</td>\n",
       "    </tr>\n",
       "    <tr>\n",
       "      <th>2034</th>\n",
       "      <td>2010-07-21</td>\n",
       "      <td>122.10</td>\n",
       "      <td>123.00</td>\n",
       "      <td>121.05</td>\n",
       "      <td>121.10</td>\n",
       "      <td>121.55</td>\n",
       "      <td>658666</td>\n",
       "      <td>803.56</td>\n",
       "    </tr>\n",
       "  </tbody>\n",
       "</table>\n",
       "<p>2035 rows × 8 columns</p>\n",
       "</div>"
      ],
      "text/plain": [
       "            Date    Open    High     Low    Last   Close  \\\n",
       "0     2018-09-28  234.05  235.95  230.20  233.50  233.75   \n",
       "1     2018-09-27  234.55  236.80  231.10  233.80  233.25   \n",
       "2     2018-09-26  240.00  240.00  232.50  235.00  234.25   \n",
       "3     2018-09-25  233.30  236.75  232.00  236.25  236.10   \n",
       "4     2018-09-24  233.55  239.20  230.75  234.00  233.30   \n",
       "...          ...     ...     ...     ...     ...     ...   \n",
       "2030  2010-07-27  117.60  119.50  112.00  118.80  118.65   \n",
       "2031  2010-07-26  120.10  121.00  117.10  117.10  117.60   \n",
       "2032  2010-07-23  121.80  121.95  120.25  120.35  120.65   \n",
       "2033  2010-07-22  120.30  122.00  120.25  120.75  120.90   \n",
       "2034  2010-07-21  122.10  123.00  121.05  121.10  121.55   \n",
       "\n",
       "      Total Trade Quantity  Turnover (Lacs)  \n",
       "0                  3069914          7162.35  \n",
       "1                  5082859         11859.95  \n",
       "2                  2240909          5248.60  \n",
       "3                  2349368          5503.90  \n",
       "4                  3423509          7999.55  \n",
       "...                    ...              ...  \n",
       "2030                586100           694.98  \n",
       "2031                658440           780.01  \n",
       "2032                281312           340.31  \n",
       "2033                293312           355.17  \n",
       "2034                658666           803.56  \n",
       "\n",
       "[2035 rows x 8 columns]"
      ]
     },
     "execution_count": 105,
     "metadata": {},
     "output_type": "execute_result"
    }
   ],
   "source": [
    "df"
   ]
  },
  {
   "cell_type": "code",
   "execution_count": 106,
   "id": "68d099db",
   "metadata": {},
   "outputs": [
    {
     "data": {
      "text/html": [
       "<div>\n",
       "<style scoped>\n",
       "    .dataframe tbody tr th:only-of-type {\n",
       "        vertical-align: middle;\n",
       "    }\n",
       "\n",
       "    .dataframe tbody tr th {\n",
       "        vertical-align: top;\n",
       "    }\n",
       "\n",
       "    .dataframe thead th {\n",
       "        text-align: right;\n",
       "    }\n",
       "</style>\n",
       "<table border=\"1\" class=\"dataframe\">\n",
       "  <thead>\n",
       "    <tr style=\"text-align: right;\">\n",
       "      <th></th>\n",
       "      <th>Date</th>\n",
       "      <th>Open</th>\n",
       "      <th>High</th>\n",
       "      <th>Low</th>\n",
       "      <th>Last</th>\n",
       "      <th>Close</th>\n",
       "      <th>Total Trade Quantity</th>\n",
       "      <th>Turnover (Lacs)</th>\n",
       "    </tr>\n",
       "  </thead>\n",
       "  <tbody>\n",
       "    <tr>\n",
       "      <th>0</th>\n",
       "      <td>2018-09-28</td>\n",
       "      <td>234.05</td>\n",
       "      <td>235.95</td>\n",
       "      <td>230.20</td>\n",
       "      <td>233.50</td>\n",
       "      <td>233.75</td>\n",
       "      <td>3069914</td>\n",
       "      <td>7162.35</td>\n",
       "    </tr>\n",
       "    <tr>\n",
       "      <th>1</th>\n",
       "      <td>2018-09-27</td>\n",
       "      <td>234.55</td>\n",
       "      <td>236.80</td>\n",
       "      <td>231.10</td>\n",
       "      <td>233.80</td>\n",
       "      <td>233.25</td>\n",
       "      <td>5082859</td>\n",
       "      <td>11859.95</td>\n",
       "    </tr>\n",
       "    <tr>\n",
       "      <th>2</th>\n",
       "      <td>2018-09-26</td>\n",
       "      <td>240.00</td>\n",
       "      <td>240.00</td>\n",
       "      <td>232.50</td>\n",
       "      <td>235.00</td>\n",
       "      <td>234.25</td>\n",
       "      <td>2240909</td>\n",
       "      <td>5248.60</td>\n",
       "    </tr>\n",
       "    <tr>\n",
       "      <th>3</th>\n",
       "      <td>2018-09-25</td>\n",
       "      <td>233.30</td>\n",
       "      <td>236.75</td>\n",
       "      <td>232.00</td>\n",
       "      <td>236.25</td>\n",
       "      <td>236.10</td>\n",
       "      <td>2349368</td>\n",
       "      <td>5503.90</td>\n",
       "    </tr>\n",
       "    <tr>\n",
       "      <th>4</th>\n",
       "      <td>2018-09-24</td>\n",
       "      <td>233.55</td>\n",
       "      <td>239.20</td>\n",
       "      <td>230.75</td>\n",
       "      <td>234.00</td>\n",
       "      <td>233.30</td>\n",
       "      <td>3423509</td>\n",
       "      <td>7999.55</td>\n",
       "    </tr>\n",
       "  </tbody>\n",
       "</table>\n",
       "</div>"
      ],
      "text/plain": [
       "         Date    Open    High     Low    Last   Close  Total Trade Quantity  \\\n",
       "0  2018-09-28  234.05  235.95  230.20  233.50  233.75               3069914   \n",
       "1  2018-09-27  234.55  236.80  231.10  233.80  233.25               5082859   \n",
       "2  2018-09-26  240.00  240.00  232.50  235.00  234.25               2240909   \n",
       "3  2018-09-25  233.30  236.75  232.00  236.25  236.10               2349368   \n",
       "4  2018-09-24  233.55  239.20  230.75  234.00  233.30               3423509   \n",
       "\n",
       "   Turnover (Lacs)  \n",
       "0          7162.35  \n",
       "1         11859.95  \n",
       "2          5248.60  \n",
       "3          5503.90  \n",
       "4          7999.55  "
      ]
     },
     "execution_count": 106,
     "metadata": {},
     "output_type": "execute_result"
    }
   ],
   "source": [
    "df.head()"
   ]
  },
  {
   "cell_type": "code",
   "execution_count": 107,
   "id": "ec5e9d27",
   "metadata": {},
   "outputs": [
    {
     "data": {
      "text/html": [
       "<div>\n",
       "<style scoped>\n",
       "    .dataframe tbody tr th:only-of-type {\n",
       "        vertical-align: middle;\n",
       "    }\n",
       "\n",
       "    .dataframe tbody tr th {\n",
       "        vertical-align: top;\n",
       "    }\n",
       "\n",
       "    .dataframe thead th {\n",
       "        text-align: right;\n",
       "    }\n",
       "</style>\n",
       "<table border=\"1\" class=\"dataframe\">\n",
       "  <thead>\n",
       "    <tr style=\"text-align: right;\">\n",
       "      <th></th>\n",
       "      <th>Date</th>\n",
       "      <th>Open</th>\n",
       "      <th>High</th>\n",
       "      <th>Low</th>\n",
       "      <th>Last</th>\n",
       "      <th>Close</th>\n",
       "      <th>Total Trade Quantity</th>\n",
       "      <th>Turnover (Lacs)</th>\n",
       "    </tr>\n",
       "  </thead>\n",
       "  <tbody>\n",
       "    <tr>\n",
       "      <th>2030</th>\n",
       "      <td>2010-07-27</td>\n",
       "      <td>117.6</td>\n",
       "      <td>119.50</td>\n",
       "      <td>112.00</td>\n",
       "      <td>118.80</td>\n",
       "      <td>118.65</td>\n",
       "      <td>586100</td>\n",
       "      <td>694.98</td>\n",
       "    </tr>\n",
       "    <tr>\n",
       "      <th>2031</th>\n",
       "      <td>2010-07-26</td>\n",
       "      <td>120.1</td>\n",
       "      <td>121.00</td>\n",
       "      <td>117.10</td>\n",
       "      <td>117.10</td>\n",
       "      <td>117.60</td>\n",
       "      <td>658440</td>\n",
       "      <td>780.01</td>\n",
       "    </tr>\n",
       "    <tr>\n",
       "      <th>2032</th>\n",
       "      <td>2010-07-23</td>\n",
       "      <td>121.8</td>\n",
       "      <td>121.95</td>\n",
       "      <td>120.25</td>\n",
       "      <td>120.35</td>\n",
       "      <td>120.65</td>\n",
       "      <td>281312</td>\n",
       "      <td>340.31</td>\n",
       "    </tr>\n",
       "    <tr>\n",
       "      <th>2033</th>\n",
       "      <td>2010-07-22</td>\n",
       "      <td>120.3</td>\n",
       "      <td>122.00</td>\n",
       "      <td>120.25</td>\n",
       "      <td>120.75</td>\n",
       "      <td>120.90</td>\n",
       "      <td>293312</td>\n",
       "      <td>355.17</td>\n",
       "    </tr>\n",
       "    <tr>\n",
       "      <th>2034</th>\n",
       "      <td>2010-07-21</td>\n",
       "      <td>122.1</td>\n",
       "      <td>123.00</td>\n",
       "      <td>121.05</td>\n",
       "      <td>121.10</td>\n",
       "      <td>121.55</td>\n",
       "      <td>658666</td>\n",
       "      <td>803.56</td>\n",
       "    </tr>\n",
       "  </tbody>\n",
       "</table>\n",
       "</div>"
      ],
      "text/plain": [
       "            Date   Open    High     Low    Last   Close  Total Trade Quantity  \\\n",
       "2030  2010-07-27  117.6  119.50  112.00  118.80  118.65                586100   \n",
       "2031  2010-07-26  120.1  121.00  117.10  117.10  117.60                658440   \n",
       "2032  2010-07-23  121.8  121.95  120.25  120.35  120.65                281312   \n",
       "2033  2010-07-22  120.3  122.00  120.25  120.75  120.90                293312   \n",
       "2034  2010-07-21  122.1  123.00  121.05  121.10  121.55                658666   \n",
       "\n",
       "      Turnover (Lacs)  \n",
       "2030           694.98  \n",
       "2031           780.01  \n",
       "2032           340.31  \n",
       "2033           355.17  \n",
       "2034           803.56  "
      ]
     },
     "execution_count": 107,
     "metadata": {},
     "output_type": "execute_result"
    }
   ],
   "source": [
    "df.tail()"
   ]
  },
  {
   "cell_type": "code",
   "execution_count": 108,
   "id": "d3c6c5a6",
   "metadata": {},
   "outputs": [],
   "source": [
    "df1=df.reset_index()['Close']"
   ]
  },
  {
   "cell_type": "code",
   "execution_count": 109,
   "id": "df963399",
   "metadata": {},
   "outputs": [
    {
     "data": {
      "text/plain": [
       "0       233.75\n",
       "1       233.25\n",
       "2       234.25\n",
       "3       236.10\n",
       "4       233.30\n",
       "         ...  \n",
       "2030    118.65\n",
       "2031    117.60\n",
       "2032    120.65\n",
       "2033    120.90\n",
       "2034    121.55\n",
       "Name: Close, Length: 2035, dtype: float64"
      ]
     },
     "execution_count": 109,
     "metadata": {},
     "output_type": "execute_result"
    }
   ],
   "source": [
    "df1"
   ]
  },
  {
   "cell_type": "code",
   "execution_count": 110,
   "id": "e6eb32da",
   "metadata": {},
   "outputs": [
    {
     "data": {
      "text/plain": [
       "[<matplotlib.lines.Line2D at 0x21cddd61cd0>]"
      ]
     },
     "execution_count": 110,
     "metadata": {},
     "output_type": "execute_result"
    },
    {
     "data": {
      "image/png": "[encoded data removed]",
      "text/plain": [
       "<Figure size 432x288 with 1 Axes>"
      ]
     },
     "metadata": {
      "needs_background": "light"
     },
     "output_type": "display_data"
    }
   ],
   "source": [
    "import matplotlib.pyplot as plt\n",
    "plt.plot(df1)"
   ]
  },
  {
   "cell_type": "code",
   "execution_count": 111,
   "id": "ca1905a4",
   "metadata": {},
   "outputs": [],
   "source": [
    "### LSTM are sensitive to the scale of the data. so we apply MinMax scaler \n"
   ]
  },
  {
   "cell_type": "code",
   "execution_count": 112,
   "id": "c52120fb",
   "metadata": {},
   "outputs": [],
   "source": [
    "import numpy as np"
   ]
  },
  {
   "cell_type": "code",
   "execution_count": 113,
   "id": "ef76dfb9",
   "metadata": {},
   "outputs": [
    {
     "data": {
      "text/plain": [
       "0       233.75\n",
       "1       233.25\n",
       "2       234.25\n",
       "3       236.10\n",
       "4       233.30\n",
       "         ...  \n",
       "2030    118.65\n",
       "2031    117.60\n",
       "2032    120.65\n",
       "2033    120.90\n",
       "2034    121.55\n",
       "Name: Close, Length: 2035, dtype: float64"
      ]
     },
     "execution_count": 113,
     "metadata": {},
     "output_type": "execute_result"
    }
   ],
   "source": [
    "df1"
   ]
  },
  {
   "cell_type": "code",
   "execution_count": 114,
   "id": "c1bd16d4",
   "metadata": {},
   "outputs": [],
   "source": [
    "from sklearn.preprocessing import MinMaxScaler"
   ]
  },
  {
   "cell_type": "code",
   "execution_count": 115,
   "id": "6c7bf308",
   "metadata": {},
   "outputs": [],
   "source": [
    "scaler=MinMaxScaler(feature_range=(0,1))\n",
    "df1=scaler.fit_transform(np.array(df1).reshape(-1,1))"
   ]
  },
  {
   "cell_type": "code",
   "execution_count": 116,
   "id": "45af5832",
   "metadata": {},
   "outputs": [
    {
     "name": "stdout",
     "output_type": "stream",
     "text": [
      "[[0.62418301]\n",
      " [0.62214052]\n",
      " [0.62622549]\n",
      " ...\n",
      " [0.1621732 ]\n",
      " [0.16319444]\n",
      " [0.16584967]]\n"
     ]
    }
   ],
   "source": [
    "print(df1)\n"
   ]
  },
  {
   "cell_type": "code",
   "execution_count": 117,
   "id": "21efa927",
   "metadata": {},
   "outputs": [],
   "source": [
    "##splitting dataset into train and test split\n",
    "training_size=int(len(df1)*0.65)\n",
    "test_size=len(df1)-training_size\n",
    "train_data,test_data=df1[0:training_size,:],df1[training_size:len(df1),:1]"
   ]
  },
  {
   "cell_type": "code",
   "execution_count": 118,
   "id": "f418d2e7",
   "metadata": {},
   "outputs": [
    {
     "data": {
      "text/plain": [
       "(1322, 713)"
      ]
     },
     "execution_count": 118,
     "metadata": {},
     "output_type": "execute_result"
    }
   ],
   "source": [
    "training_size,test_size\n"
   ]
  },
  {
   "cell_type": "code",
   "execution_count": 119,
   "id": "8b31112d",
   "metadata": {},
   "outputs": [
    {
     "data": {
      "text/plain": [
       "array([[0.62418301],\n",
       "       [0.62214052],\n",
       "       [0.62622549],\n",
       "       ...,\n",
       "       [0.25347222],\n",
       "       [0.26041667],\n",
       "       [0.2563317 ]])"
      ]
     },
     "execution_count": 119,
     "metadata": {},
     "output_type": "execute_result"
    }
   ],
   "source": [
    "train_data\n"
   ]
  },
  {
   "cell_type": "code",
   "execution_count": 120,
   "id": "ecfa0c3d",
   "metadata": {},
   "outputs": [],
   "source": [
    "import numpy\n",
    "# convert an array of values into a dataset matrix\n",
    "def create_dataset(dataset, time_step=1):\n",
    "\tdataX, dataY = [], []\n",
    "\tfor i in range(len(dataset)-time_step-1):\n",
    "\t\ta = dataset[i:(i+time_step), 0]   ###i=0, 0,1,2,3-----99   100 \n",
    "\t\tdataX.append(a)\n",
    "\t\tdataY.append(dataset[i + time_step, 0])\n",
    "\treturn numpy.array(dataX), numpy.array(dataY)"
   ]
  },
  {
   "cell_type": "code",
   "execution_count": 121,
   "id": "6f2ada1e",
   "metadata": {},
   "outputs": [],
   "source": [
    "# reshape into X=t,t+1,t+2,t+3 and Y=t+4\n",
    "time_step = 100\n",
    "X_train, y_train = create_dataset(train_data, time_step)\n",
    "X_test, ytest = create_dataset(test_data, time_step)"
   ]
  },
  {
   "cell_type": "code",
   "execution_count": 122,
   "id": "a2c27a9b",
   "metadata": {},
   "outputs": [
    {
     "name": "stdout",
     "output_type": "stream",
     "text": [
      "(1221, 100)\n",
      "(1221,)\n"
     ]
    },
    {
     "data": {
      "text/plain": [
       "(None, None)"
      ]
     },
     "execution_count": 122,
     "metadata": {},
     "output_type": "execute_result"
    }
   ],
   "source": [
    "print(X_train.shape), print(y_train.shape)\n"
   ]
  },
  {
   "cell_type": "code",
   "execution_count": 123,
   "id": "c8dfd0f5",
   "metadata": {},
   "outputs": [
    {
     "name": "stdout",
     "output_type": "stream",
     "text": [
      "(612, 100)\n",
      "(612,)\n"
     ]
    },
    {
     "data": {
      "text/plain": [
       "(None, None)"
      ]
     },
     "execution_count": 123,
     "metadata": {},
     "output_type": "execute_result"
    }
   ],
   "source": [
    "print(X_test.shape), print(ytest.shape)\n"
   ]
  },
  {
   "cell_type": "code",
   "execution_count": 124,
   "id": "437223ce",
   "metadata": {},
   "outputs": [],
   "source": [
    "# reshape input to be [samples, time steps, features] which is required for LSTM\n",
    "X_train =X_train.reshape(X_train.shape[0],X_train.shape[1] , 1)\n",
    "X_test = X_test.reshape(X_test.shape[0],X_test.shape[1] , 1)\n"
   ]
  },
  {
   "cell_type": "code",
   "execution_count": 125,
   "id": "b174d3ac",
   "metadata": {},
   "outputs": [],
   "source": [
    "### Create the Stacked LSTM model\n",
    "from tensorflow.keras.models import Sequential\n",
    "from tensorflow.keras.layers import Dense\n",
    "from tensorflow.keras.layers import LSTM"
   ]
  },
  {
   "cell_type": "code",
   "execution_count": 126,
   "id": "cb95c418",
   "metadata": {},
   "outputs": [],
   "source": [
    "model=Sequential()\n",
    "model.add(LSTM(50,return_sequences=True,input_shape=(100,1)))\n",
    "model.add(LSTM(50,return_sequences=True))\n",
    "model.add(LSTM(50))\n",
    "model.add(Dense(1))\n",
    "model.compile(loss='mean_squared_error',optimizer='adam')"
   ]
  },
  {
   "cell_type": "code",
   "execution_count": 127,
   "id": "b4704ace",
   "metadata": {},
   "outputs": [
    {
     "name": "stdout",
     "output_type": "stream",
     "text": [
      "Model: \"sequential_1\"\n",
      "_________________________________________________________________\n",
      " Layer (type)                Output Shape              Param #   \n",
      "=================================================================\n",
      " lstm_3 (LSTM)               (None, 100, 50)           10400     \n",
      "                                                                 \n",
      " lstm_4 (LSTM)               (None, 100, 50)           20200     \n",
      "                                                                 \n",
      " lstm_5 (LSTM)               (None, 50)                20200     \n",
      "                                                                 \n",
      " dense_1 (Dense)             (None, 1)                 51        \n",
      "                                                                 \n",
      "=================================================================\n",
      "Total params: 50,851\n",
      "Trainable params: 50,851\n",
      "Non-trainable params: 0\n",
      "_________________________________________________________________\n"
     ]
    }
   ],
   "source": [
    "model.summary()"
   ]
  },
  {
   "cell_type": "code",
   "execution_count": 128,
   "id": "b8d7513d",
   "metadata": {},
   "outputs": [
    {
     "name": "stdout",
     "output_type": "stream",
     "text": [
      "Model: \"sequential_1\"\n",
      "_________________________________________________________________\n",
      " Layer (type)                Output Shape              Param #   \n",
      "=================================================================\n",
      " lstm_3 (LSTM)               (None, 100, 50)           10400     \n",
      "                                                                 \n",
      " lstm_4 (LSTM)               (None, 100, 50)           20200     \n",
      "                                                                 \n",
      " lstm_5 (LSTM)               (None, 50)                20200     \n",
      "                                                                 \n",
      " dense_1 (Dense)             (None, 1)                 51        \n",
      "                                                                 \n",
      "=================================================================\n",
      "Total params: 50,851\n",
      "Trainable params: 50,851\n",
      "Non-trainable params: 0\n",
      "_________________________________________________________________\n"
     ]
    }
   ],
   "source": [
    "model.summary()"
   ]
  },
  {
   "cell_type": "code",
   "execution_count": 129,
   "id": "90e0799a",
   "metadata": {},
   "outputs": [
    {
     "name": "stdout",
     "output_type": "stream",
     "text": [
      "Epoch 1/100\n",
      "20/20 [==============================] - 6s 166ms/step - loss: 0.0313 - val_loss: 0.0036\n",
      "Epoch 2/100\n",
      "20/20 [==============================] - 3s 130ms/step - loss: 0.0033 - val_loss: 0.0011\n",
      "Epoch 3/100\n",
      "20/20 [==============================] - 2s 120ms/step - loss: 0.0018 - val_loss: 0.0012\n",
      "Epoch 4/100\n",
      "20/20 [==============================] - 2s 115ms/step - loss: 0.0016 - val_loss: 0.0011\n",
      "Epoch 5/100\n",
      "20/20 [==============================] - 2s 112ms/step - loss: 0.0016 - val_loss: 0.0011\n",
      "Epoch 6/100\n",
      "20/20 [==============================] - 2s 112ms/step - loss: 0.0015 - val_loss: 0.0012\n",
      "Epoch 7/100\n",
      "20/20 [==============================] - 2s 116ms/step - loss: 0.0014 - val_loss: 0.0012\n",
      "Epoch 8/100\n",
      "20/20 [==============================] - 2s 112ms/step - loss: 0.0013 - val_loss: 9.8423e-04\n",
      "Epoch 9/100\n",
      "20/20 [==============================] - 2s 114ms/step - loss: 0.0013 - val_loss: 0.0013\n",
      "Epoch 10/100\n",
      "20/20 [==============================] - 2s 112ms/step - loss: 0.0012 - val_loss: 7.5367e-04\n",
      "Epoch 11/100\n",
      "20/20 [==============================] - 2s 112ms/step - loss: 0.0012 - val_loss: 9.1982e-04\n",
      "Epoch 12/100\n",
      "20/20 [==============================] - 2s 112ms/step - loss: 0.0012 - val_loss: 8.3660e-04\n",
      "Epoch 13/100\n",
      "20/20 [==============================] - 2s 113ms/step - loss: 0.0011 - val_loss: 0.0010\n",
      "Epoch 14/100\n",
      "20/20 [==============================] - 2s 116ms/step - loss: 9.8894e-04 - val_loss: 0.0011\n",
      "Epoch 15/100\n",
      "20/20 [==============================] - 2s 113ms/step - loss: 0.0011 - val_loss: 0.0012\n",
      "Epoch 16/100\n",
      "20/20 [==============================] - 2s 112ms/step - loss: 9.5252e-04 - val_loss: 8.7354e-04\n",
      "Epoch 17/100\n",
      "20/20 [==============================] - 2s 114ms/step - loss: 9.0011e-04 - val_loss: 8.2696e-04\n",
      "Epoch 18/100\n",
      "20/20 [==============================] - 2s 120ms/step - loss: 9.3668e-04 - val_loss: 8.2573e-04\n",
      "Epoch 19/100\n",
      "20/20 [==============================] - 2s 113ms/step - loss: 8.6409e-04 - val_loss: 0.0010\n",
      "Epoch 20/100\n",
      "20/20 [==============================] - 2s 112ms/step - loss: 9.7928e-04 - val_loss: 8.8799e-04\n",
      "Epoch 21/100\n",
      "20/20 [==============================] - 2s 116ms/step - loss: 8.8711e-04 - val_loss: 6.7427e-04\n",
      "Epoch 22/100\n",
      "20/20 [==============================] - 2s 115ms/step - loss: 8.0509e-04 - val_loss: 8.3881e-04\n",
      "Epoch 23/100\n",
      "20/20 [==============================] - 2s 113ms/step - loss: 8.9967e-04 - val_loss: 6.8336e-04\n",
      "Epoch 24/100\n",
      "20/20 [==============================] - 2s 114ms/step - loss: 8.5293e-04 - val_loss: 8.8234e-04\n",
      "Epoch 25/100\n",
      "20/20 [==============================] - 2s 112ms/step - loss: 7.8036e-04 - val_loss: 9.6055e-04\n",
      "Epoch 26/100\n",
      "20/20 [==============================] - 2s 113ms/step - loss: 7.7200e-04 - val_loss: 8.4913e-04\n",
      "Epoch 27/100\n",
      "20/20 [==============================] - 2s 114ms/step - loss: 7.2799e-04 - val_loss: 6.8188e-04\n",
      "Epoch 28/100\n",
      "20/20 [==============================] - 2s 115ms/step - loss: 8.9123e-04 - val_loss: 9.9075e-04\n",
      "Epoch 29/100\n",
      "20/20 [==============================] - 2s 113ms/step - loss: 0.0011 - val_loss: 0.0014\n",
      "Epoch 30/100\n",
      "20/20 [==============================] - 2s 113ms/step - loss: 7.9706e-04 - val_loss: 8.6945e-04\n",
      "Epoch 31/100\n",
      "20/20 [==============================] - 2s 113ms/step - loss: 6.9249e-04 - val_loss: 6.3861e-04\n",
      "Epoch 32/100\n",
      "20/20 [==============================] - 2s 114ms/step - loss: 7.5863e-04 - val_loss: 7.7731e-04\n",
      "Epoch 33/100\n",
      "20/20 [==============================] - 2s 113ms/step - loss: 6.3058e-04 - val_loss: 0.0014\n",
      "Epoch 34/100\n",
      "20/20 [==============================] - 2s 113ms/step - loss: 0.0010 - val_loss: 0.0012\n",
      "Epoch 35/100\n",
      "20/20 [==============================] - 2s 115ms/step - loss: 6.8942e-04 - val_loss: 9.9413e-04\n",
      "Epoch 36/100\n",
      "20/20 [==============================] - 2s 115ms/step - loss: 7.4440e-04 - val_loss: 8.6506e-04\n",
      "Epoch 37/100\n",
      "20/20 [==============================] - 2s 113ms/step - loss: 6.2839e-04 - val_loss: 7.8807e-04\n",
      "Epoch 38/100\n",
      "20/20 [==============================] - 2s 117ms/step - loss: 5.9707e-04 - val_loss: 7.1138e-04\n",
      "Epoch 39/100\n",
      "20/20 [==============================] - 2s 112ms/step - loss: 5.8808e-04 - val_loss: 7.2364e-04\n",
      "Epoch 40/100\n",
      "20/20 [==============================] - 2s 113ms/step - loss: 6.2684e-04 - val_loss: 6.5157e-04\n",
      "Epoch 41/100\n",
      "20/20 [==============================] - 2s 113ms/step - loss: 5.8277e-04 - val_loss: 6.0542e-04\n",
      "Epoch 42/100\n",
      "20/20 [==============================] - 2s 118ms/step - loss: 5.7570e-04 - val_loss: 7.8999e-04\n",
      "Epoch 43/100\n",
      "20/20 [==============================] - 2s 123ms/step - loss: 5.8394e-04 - val_loss: 6.1787e-04\n",
      "Epoch 44/100\n",
      "20/20 [==============================] - 2s 113ms/step - loss: 6.3426e-04 - val_loss: 6.2539e-04\n",
      "Epoch 45/100\n",
      "20/20 [==============================] - 2s 120ms/step - loss: 6.0989e-04 - val_loss: 0.0011\n",
      "Epoch 46/100\n",
      "20/20 [==============================] - 2s 113ms/step - loss: 6.6414e-04 - val_loss: 5.5121e-04\n",
      "Epoch 47/100\n",
      "20/20 [==============================] - 2s 115ms/step - loss: 5.8141e-04 - val_loss: 6.8772e-04\n",
      "Epoch 48/100\n",
      "20/20 [==============================] - 3s 131ms/step - loss: 5.3230e-04 - val_loss: 5.9666e-04\n",
      "Epoch 49/100\n",
      "20/20 [==============================] - 2s 123ms/step - loss: 5.4391e-04 - val_loss: 7.9148e-04\n",
      "Epoch 50/100\n",
      "20/20 [==============================] - 2s 121ms/step - loss: 5.4030e-04 - val_loss: 6.0274e-04\n",
      "Epoch 51/100\n",
      "20/20 [==============================] - 2s 116ms/step - loss: 5.1802e-04 - val_loss: 5.4391e-04\n",
      "Epoch 52/100\n",
      "20/20 [==============================] - 2s 115ms/step - loss: 5.6983e-04 - val_loss: 6.1344e-04\n",
      "Epoch 53/100\n",
      "20/20 [==============================] - 2s 115ms/step - loss: 5.2056e-04 - val_loss: 5.5726e-04\n",
      "Epoch 54/100\n",
      "20/20 [==============================] - 2s 115ms/step - loss: 5.4245e-04 - val_loss: 5.5411e-04\n",
      "Epoch 55/100\n",
      "20/20 [==============================] - 2s 114ms/step - loss: 4.8683e-04 - val_loss: 5.8769e-04\n",
      "Epoch 56/100\n",
      "20/20 [==============================] - 2s 118ms/step - loss: 5.0701e-04 - val_loss: 9.3277e-04\n",
      "Epoch 57/100\n",
      "20/20 [==============================] - 2s 115ms/step - loss: 6.1795e-04 - val_loss: 5.2580e-04\n",
      "Epoch 58/100\n",
      "20/20 [==============================] - 2s 115ms/step - loss: 5.5968e-04 - val_loss: 5.9930e-04\n",
      "Epoch 59/100\n",
      "20/20 [==============================] - 2s 116ms/step - loss: 4.6053e-04 - val_loss: 5.1627e-04\n",
      "Epoch 60/100\n",
      "20/20 [==============================] - 2s 114ms/step - loss: 4.5143e-04 - val_loss: 4.4347e-04\n",
      "Epoch 61/100\n",
      "20/20 [==============================] - 2s 118ms/step - loss: 4.5665e-04 - val_loss: 4.4734e-04\n",
      "Epoch 62/100\n",
      "20/20 [==============================] - 3s 131ms/step - loss: 4.7945e-04 - val_loss: 5.3471e-04\n",
      "Epoch 63/100\n",
      "20/20 [==============================] - 3s 139ms/step - loss: 4.4782e-04 - val_loss: 4.5695e-04\n",
      "Epoch 64/100\n",
      "20/20 [==============================] - 2s 119ms/step - loss: 4.5870e-04 - val_loss: 4.9694e-04\n",
      "Epoch 65/100\n",
      "20/20 [==============================] - 2s 119ms/step - loss: 4.3606e-04 - val_loss: 4.8469e-04\n",
      "Epoch 66/100\n",
      "20/20 [==============================] - 3s 128ms/step - loss: 4.2154e-04 - val_loss: 4.6880e-04\n",
      "Epoch 67/100\n",
      "20/20 [==============================] - 3s 135ms/step - loss: 4.2272e-04 - val_loss: 4.3998e-04\n",
      "Epoch 68/100\n",
      "20/20 [==============================] - 3s 131ms/step - loss: 4.0732e-04 - val_loss: 3.9074e-04\n",
      "Epoch 69/100\n",
      "20/20 [==============================] - 3s 133ms/step - loss: 4.1577e-04 - val_loss: 4.1555e-04\n",
      "Epoch 70/100\n",
      "20/20 [==============================] - 3s 140ms/step - loss: 3.8413e-04 - val_loss: 3.2518e-04\n",
      "Epoch 71/100\n",
      "20/20 [==============================] - 3s 137ms/step - loss: 4.1776e-04 - val_loss: 3.6013e-04\n",
      "Epoch 72/100\n",
      "20/20 [==============================] - 3s 130ms/step - loss: 4.4578e-04 - val_loss: 5.0137e-04\n",
      "Epoch 73/100\n",
      "20/20 [==============================] - 2s 123ms/step - loss: 3.9131e-04 - val_loss: 3.7526e-04\n",
      "Epoch 74/100\n",
      "20/20 [==============================] - 2s 125ms/step - loss: 5.6822e-04 - val_loss: 3.9014e-04\n",
      "Epoch 75/100\n",
      "20/20 [==============================] - 2s 125ms/step - loss: 4.0174e-04 - val_loss: 3.8684e-04\n",
      "Epoch 76/100\n"
     ]
    },
    {
     "name": "stdout",
     "output_type": "stream",
     "text": [
      "20/20 [==============================] - 2s 114ms/step - loss: 3.6382e-04 - val_loss: 5.3089e-04\n",
      "Epoch 77/100\n",
      "20/20 [==============================] - 2s 123ms/step - loss: 4.7064e-04 - val_loss: 4.1044e-04\n",
      "Epoch 78/100\n",
      "20/20 [==============================] - 3s 132ms/step - loss: 3.3557e-04 - val_loss: 4.8896e-04\n",
      "Epoch 79/100\n",
      "20/20 [==============================] - 3s 141ms/step - loss: 4.2185e-04 - val_loss: 3.7038e-04\n",
      "Epoch 80/100\n",
      "20/20 [==============================] - 3s 126ms/step - loss: 3.3076e-04 - val_loss: 4.1751e-04\n",
      "Epoch 81/100\n",
      "20/20 [==============================] - 3s 131ms/step - loss: 3.6595e-04 - val_loss: 2.9830e-04\n",
      "Epoch 82/100\n",
      "20/20 [==============================] - 3s 133ms/step - loss: 3.2471e-04 - val_loss: 3.2179e-04\n",
      "Epoch 83/100\n",
      "20/20 [==============================] - 3s 140ms/step - loss: 4.0537e-04 - val_loss: 4.3489e-04\n",
      "Epoch 84/100\n",
      "20/20 [==============================] - 3s 128ms/step - loss: 3.7293e-04 - val_loss: 3.9996e-04\n",
      "Epoch 85/100\n",
      "20/20 [==============================] - 2s 123ms/step - loss: 3.9211e-04 - val_loss: 3.8062e-04\n",
      "Epoch 86/100\n",
      "20/20 [==============================] - 2s 122ms/step - loss: 3.0914e-04 - val_loss: 2.9783e-04\n",
      "Epoch 87/100\n",
      "20/20 [==============================] - 3s 125ms/step - loss: 3.2124e-04 - val_loss: 2.7324e-04\n",
      "Epoch 88/100\n",
      "20/20 [==============================] - 2s 126ms/step - loss: 2.9984e-04 - val_loss: 5.4794e-04\n",
      "Epoch 89/100\n",
      "20/20 [==============================] - 2s 119ms/step - loss: 3.3903e-04 - val_loss: 3.0901e-04\n",
      "Epoch 90/100\n",
      "20/20 [==============================] - 2s 118ms/step - loss: 3.0169e-04 - val_loss: 3.1037e-04\n",
      "Epoch 91/100\n",
      "20/20 [==============================] - 2s 125ms/step - loss: 3.0365e-04 - val_loss: 2.8513e-04\n",
      "Epoch 92/100\n",
      "20/20 [==============================] - 2s 115ms/step - loss: 3.4880e-04 - val_loss: 2.6565e-04\n",
      "Epoch 93/100\n",
      "20/20 [==============================] - 2s 123ms/step - loss: 3.0123e-04 - val_loss: 3.2046e-04\n",
      "Epoch 94/100\n",
      "20/20 [==============================] - 2s 119ms/step - loss: 2.7987e-04 - val_loss: 2.6062e-04\n",
      "Epoch 95/100\n",
      "20/20 [==============================] - 2s 117ms/step - loss: 2.7390e-04 - val_loss: 2.4291e-04\n",
      "Epoch 96/100\n",
      "20/20 [==============================] - 2s 117ms/step - loss: 3.5573e-04 - val_loss: 2.8591e-04\n",
      "Epoch 97/100\n",
      "20/20 [==============================] - 2s 116ms/step - loss: 2.9308e-04 - val_loss: 3.4641e-04\n",
      "Epoch 98/100\n",
      "20/20 [==============================] - 2s 123ms/step - loss: 2.6686e-04 - val_loss: 2.4642e-04\n",
      "Epoch 99/100\n",
      "20/20 [==============================] - 2s 124ms/step - loss: 3.7420e-04 - val_loss: 2.9738e-04\n",
      "Epoch 100/100\n",
      "20/20 [==============================] - 3s 127ms/step - loss: 2.7311e-04 - val_loss: 2.7770e-04\n"
     ]
    },
    {
     "data": {
      "text/plain": [
       "<keras.callbacks.History at 0x21ce03cdb20>"
      ]
     },
     "execution_count": 129,
     "metadata": {},
     "output_type": "execute_result"
    }
   ],
   "source": [
    "model.fit(X_train,y_train,validation_data=(X_test,ytest),epochs=100,batch_size=64,verbose=1)\n"
   ]
  },
  {
   "cell_type": "code",
   "execution_count": 130,
   "id": "fd4bdb59",
   "metadata": {},
   "outputs": [],
   "source": [
    "import tensorflow as tf"
   ]
  },
  {
   "cell_type": "code",
   "execution_count": 131,
   "id": "88b1cc2c",
   "metadata": {},
   "outputs": [
    {
     "data": {
      "text/plain": [
       "'2.7.0'"
      ]
     },
     "execution_count": 131,
     "metadata": {},
     "output_type": "execute_result"
    }
   ],
   "source": [
    "tf.__version__"
   ]
  },
  {
   "cell_type": "code",
   "execution_count": 132,
   "id": "1191b297",
   "metadata": {},
   "outputs": [],
   "source": [
    "### Lets Do the prediction and check performance metrics\n",
    "train_predict=model.predict(X_train)\n",
    "test_predict=model.predict(X_test)"
   ]
  },
  {
   "cell_type": "code",
   "execution_count": 133,
   "id": "3b739b3f",
   "metadata": {},
   "outputs": [],
   "source": [
    "##Transformback to original form\n",
    "train_predict=scaler.inverse_transform(train_predict)\n",
    "test_predict=scaler.inverse_transform(test_predict)"
   ]
  },
  {
   "cell_type": "code",
   "execution_count": 134,
   "id": "9a69af51",
   "metadata": {},
   "outputs": [
    {
     "data": {
      "text/plain": [
       "164.34576161342991"
      ]
     },
     "execution_count": 134,
     "metadata": {},
     "output_type": "execute_result"
    }
   ],
   "source": [
    "### Calculate RMSE performance metrics\n",
    "import math\n",
    "from sklearn.metrics import mean_squared_error\n",
    "math.sqrt(mean_squared_error(y_train,train_predict))"
   ]
  },
  {
   "cell_type": "code",
   "execution_count": 135,
   "id": "e775f65b",
   "metadata": {},
   "outputs": [
    {
     "data": {
      "text/plain": [
       "116.20025006739849"
      ]
     },
     "execution_count": 135,
     "metadata": {},
     "output_type": "execute_result"
    }
   ],
   "source": [
    "### Test Data RMSE\n",
    "math.sqrt(mean_squared_error(ytest,test_predict))"
   ]
  },
  {
   "cell_type": "code",
   "execution_count": 136,
   "id": "12f5465b",
   "metadata": {},
   "outputs": [
    {
     "data": {
      "image/png": "[encoded data removed]",
      "text/plain": [
       "<Figure size 432x288 with 1 Axes>"
      ]
     },
     "metadata": {
      "needs_background": "light"
     },
     "output_type": "display_data"
    }
   ],
   "source": [
    "### Plotting \n",
    "# shift train predictions for plotting\n",
    "look_back=100\n",
    "trainPredictPlot = numpy.empty_like(df1)\n",
    "trainPredictPlot[:, :] = np.nan\n",
    "trainPredictPlot[look_back:len(train_predict)+look_back, :] = train_predict\n",
    "# shift test predictions for plotting\n",
    "testPredictPlot = numpy.empty_like(df1)\n",
    "testPredictPlot[:, :] = numpy.nan\n",
    "testPredictPlot[len(train_predict)+(look_back*2)+1:len(df1)-1, :] = test_predict\n",
    "# plot baseline and predictions\n",
    "plt.plot(scaler.inverse_transform(df1))\n",
    "plt.plot(trainPredictPlot)\n",
    "plt.plot(testPredictPlot)\n",
    "plt.show()"
   ]
  },
  {
   "cell_type": "code",
   "execution_count": 137,
   "id": "2d57dd02",
   "metadata": {},
   "outputs": [
    {
     "data": {
      "text/plain": [
       "713"
      ]
     },
     "execution_count": 137,
     "metadata": {},
     "output_type": "execute_result"
    }
   ],
   "source": [
    "len(test_data)"
   ]
  },
  {
   "cell_type": "code",
   "execution_count": 138,
   "id": "98e28efc",
   "metadata": {},
   "outputs": [
    {
     "data": {
      "text/plain": [
       "(1, 372)"
      ]
     },
     "execution_count": 138,
     "metadata": {},
     "output_type": "execute_result"
    }
   ],
   "source": [
    "x_input=test_data[341:].reshape(1,-1)\n",
    "x_input.shape"
   ]
  },
  {
   "cell_type": "code",
   "execution_count": 139,
   "id": "41e27195",
   "metadata": {},
   "outputs": [],
   "source": [
    "temp_input=list(x_input)\n",
    "temp_input=temp_input[0].tolist()"
   ]
  },
  {
   "cell_type": "code",
   "execution_count": 140,
   "id": "36888cd4",
   "metadata": {},
   "outputs": [
    {
     "data": {
      "text/plain": [
       "[0.048815359477124176,\n",
       " 0.048815359477124176,\n",
       " 0.05310457516339867,\n",
       " 0.049632352941176405,\n",
       " 0.05065359477124176,\n",
       " 0.05126633986928103,\n",
       " 0.049632352941176405,\n",
       " 0.05902777777777779,\n",
       " 0.055555555555555525,\n",
       " 0.040849673202614345,\n",
       " 0.037377450980392135,\n",
       " 0.037377450980392135,\n",
       " 0.026552287581699308,\n",
       " 0.02879901960784309,\n",
       " 0.03165849673202614,\n",
       " 0.03165849673202614,\n",
       " 0.036356209150326724,\n",
       " 0.022058823529411742,\n",
       " 0.016748366013071836,\n",
       " 0.014501633986928053,\n",
       " 0.022263071895424813,\n",
       " 0.03615196078431371,\n",
       " 0.02675653594771238,\n",
       " 0.03206699346405223,\n",
       " 0.02696078431372545,\n",
       " 0.035743464052287566,\n",
       " 0.03594771241830064,\n",
       " 0.0404411764705882,\n",
       " 0.039215686274509776,\n",
       " 0.044117647058823484,\n",
       " 0.029820261437908446,\n",
       " 0.012254901960784326,\n",
       " 0.012867647058823484,\n",
       " 0.011437908496731986,\n",
       " 0.0024509803921567985,\n",
       " 0.005923202614379064,\n",
       " 0.0,\n",
       " 0.007148692810457491,\n",
       " 0.0042892156862744946,\n",
       " 0.006740196078431349,\n",
       " 0.006331699346405206,\n",
       " 0.011233660130718914,\n",
       " 0.019607843137254888,\n",
       " 0.02757352941176472,\n",
       " 0.030024509803921517,\n",
       " 0.03349673202614378,\n",
       " 0.04003267973856206,\n",
       " 0.040849673202614345,\n",
       " 0.03982843137254899,\n",
       " 0.041666666666666685,\n",
       " 0.0437091503267974,\n",
       " 0.047589869281045694,\n",
       " 0.03594771241830064,\n",
       " 0.028390522875817004,\n",
       " 0.024101307189542454,\n",
       " 0.017156862745098034,\n",
       " 0.015318627450980393,\n",
       " 0.017565359477124176,\n",
       " 0.02696078431372545,\n",
       " 0.02696078431372545,\n",
       " 0.03819444444444442,\n",
       " 0.028390522875817004,\n",
       " 0.02369281045751631,\n",
       " 0.029207516339869233,\n",
       " 0.02328431372549017,\n",
       " 0.019199346405228745,\n",
       " 0.006535947712418277,\n",
       " 0.000612745098039158,\n",
       " 0.007965686274509776,\n",
       " 0.012459150326797341,\n",
       " 0.01981209150326796,\n",
       " 0.019403594771241817,\n",
       " 0.022467320261437884,\n",
       " 0.031249999999999944,\n",
       " 0.02348856209150324,\n",
       " 0.024918300653594738,\n",
       " 0.02144607843137253,\n",
       " 0.04840686274509798,\n",
       " 0.04575163398692811,\n",
       " 0.03962418300653592,\n",
       " 0.039215686274509776,\n",
       " 0.047589869281045694,\n",
       " 0.04513888888888884,\n",
       " 0.041666666666666685,\n",
       " 0.04125816993464049,\n",
       " 0.050449346405228745,\n",
       " 0.055555555555555525,\n",
       " 0.05494281045751631,\n",
       " 0.054125816993464027,\n",
       " 0.04350490196078427,\n",
       " 0.04799836601307189,\n",
       " 0.0514705882352941,\n",
       " 0.05065359477124176,\n",
       " 0.03431372549019601,\n",
       " 0.04575163398692811,\n",
       " 0.0418709150326797,\n",
       " 0.04554738562091498,\n",
       " 0.03941993464052285,\n",
       " 0.02716503267973852,\n",
       " 0.031249999999999944,\n",
       " 0.05882352941176466,\n",
       " 0.07148692810457513,\n",
       " 0.08721405228758167,\n",
       " 0.08986928104575165,\n",
       " 0.10498366013071897,\n",
       " 0.08905228758169931,\n",
       " 0.10355392156862742,\n",
       " 0.10375816993464049,\n",
       " 0.12275326797385616,\n",
       " 0.1090686274509804,\n",
       " 0.09660947712418294,\n",
       " 0.10641339869281041,\n",
       " 0.10457516339869277,\n",
       " 0.11049836601307189,\n",
       " 0.11274509803921567,\n",
       " 0.0980392156862745,\n",
       " 0.09987745098039214,\n",
       " 0.08925653594771238,\n",
       " 0.07475490196078427,\n",
       " 0.08169934640522875,\n",
       " 0.08925653594771238,\n",
       " 0.09068627450980393,\n",
       " 0.08129084967320255,\n",
       " 0.08823529411764702,\n",
       " 0.08455882352941174,\n",
       " 0.07945261437908496,\n",
       " 0.08374183006535946,\n",
       " 0.0778186274509804,\n",
       " 0.09824346405228757,\n",
       " 0.090890522875817,\n",
       " 0.09007352941176466,\n",
       " 0.09558823529411759,\n",
       " 0.06862745098039214,\n",
       " 0.06372549019607837,\n",
       " 0.04942810457516339,\n",
       " 0.04799836601307189,\n",
       " 0.04534313725490191,\n",
       " 0.044321895424836555,\n",
       " 0.03941993464052285,\n",
       " 0.03799019607843135,\n",
       " 0.04656862745098034,\n",
       " 0.05085784313725489,\n",
       " 0.07209967320261434,\n",
       " 0.065359477124183,\n",
       " 0.07230392156862747,\n",
       " 0.07802287581699341,\n",
       " 0.07741013071895425,\n",
       " 0.060866013071895375,\n",
       " 0.06413398692810457,\n",
       " 0.07046568627450978,\n",
       " 0.054125816993464027,\n",
       " 0.04983660130718953,\n",
       " 0.05167483660130712,\n",
       " 0.05330882352941174,\n",
       " 0.04350490196078427,\n",
       " 0.026348039215686292,\n",
       " 0.024101307189542454,\n",
       " 0.02961601307189543,\n",
       " 0.019607843137254888,\n",
       " 0.02961601307189543,\n",
       " 0.04575163398692811,\n",
       " 0.05923202614379086,\n",
       " 0.0667892156862745,\n",
       " 0.06229575163398693,\n",
       " 0.06311274509803921,\n",
       " 0.06290849673202609,\n",
       " 0.06658496732026142,\n",
       " 0.07434640522875818,\n",
       " 0.06944444444444442,\n",
       " 0.08088235294117646,\n",
       " 0.07700163398692805,\n",
       " 0.06842320261437906,\n",
       " 0.06781045751633985,\n",
       " 0.06290849673202609,\n",
       " 0.06924019607843135,\n",
       " 0.07557189542483661,\n",
       " 0.0778186274509804,\n",
       " 0.08088235294117646,\n",
       " 0.0884395424836601,\n",
       " 0.09395424836601307,\n",
       " 0.09599673202614378,\n",
       " 0.08660130718954251,\n",
       " 0.09027777777777773,\n",
       " 0.08517156862745096,\n",
       " 0.08374183006535946,\n",
       " 0.07945261437908496,\n",
       " 0.09109477124183002,\n",
       " 0.09129901960784309,\n",
       " 0.08803104575163395,\n",
       " 0.09681372549019607,\n",
       " 0.11417483660130717,\n",
       " 0.10498366013071897,\n",
       " 0.09987745098039214,\n",
       " 0.08537581699346403,\n",
       " 0.08047385620915032,\n",
       " 0.06862745098039214,\n",
       " 0.06576797385620914,\n",
       " 0.061478758169934644,\n",
       " 0.0716911764705882,\n",
       " 0.0702614379084967,\n",
       " 0.07475490196078427,\n",
       " 0.06821895424836599,\n",
       " 0.06924019607843135,\n",
       " 0.07066993464052285,\n",
       " 0.06801470588235292,\n",
       " 0.0667892156862745,\n",
       " 0.07414215686274506,\n",
       " 0.0716911764705882,\n",
       " 0.08639705882352938,\n",
       " 0.08312908496732024,\n",
       " 0.06311274509803921,\n",
       " 0.06290849673202609,\n",
       " 0.05167483660130712,\n",
       " 0.031862745098039214,\n",
       " 0.04003267973856206,\n",
       " 0.03860294117647056,\n",
       " 0.041053921568627416,\n",
       " 0.033905228758169925,\n",
       " 0.031249999999999944,\n",
       " 0.026348039215686292,\n",
       " 0.05861928104575159,\n",
       " 0.06311274509803921,\n",
       " 0.06209150326797386,\n",
       " 0.055351307189542454,\n",
       " 0.08455882352941174,\n",
       " 0.05514705882352938,\n",
       " 0.06045751633986923,\n",
       " 0.055759803921568596,\n",
       " 0.04391339869281047,\n",
       " 0.029207516339869233,\n",
       " 0.028186274509803877,\n",
       " 0.04718137254901961,\n",
       " 0.06045751633986923,\n",
       " 0.05861928104575159,\n",
       " 0.06168300653594766,\n",
       " 0.06699346405228751,\n",
       " 0.07087418300653592,\n",
       " 0.07557189542483661,\n",
       " 0.07700163398692805,\n",
       " 0.10375816993464049,\n",
       " 0.10314542483660127,\n",
       " 0.10334967320261434,\n",
       " 0.10089869281045749,\n",
       " 0.1043709150326797,\n",
       " 0.0980392156862745,\n",
       " 0.09722222222222221,\n",
       " 0.09783496732026142,\n",
       " 0.09579248366013071,\n",
       " 0.09109477124183002,\n",
       " 0.09313725490196079,\n",
       " 0.0855800653594771,\n",
       " 0.0951797385620915,\n",
       " 0.11172385620915032,\n",
       " 0.12275326797385616,\n",
       " 0.12806372549019607,\n",
       " 0.1313316993464052,\n",
       " 0.12479575163398693,\n",
       " 0.11090686274509798,\n",
       " 0.10743464052287577,\n",
       " 0.11621732026143788,\n",
       " 0.1168300653594771,\n",
       " 0.11764705882352938,\n",
       " 0.12888071895424835,\n",
       " 0.1284722222222222,\n",
       " 0.13337418300653592,\n",
       " 0.1423611111111111,\n",
       " 0.1409313725490196,\n",
       " 0.13970588235294118,\n",
       " 0.13827614379084963,\n",
       " 0.13541666666666663,\n",
       " 0.13010620915032678,\n",
       " 0.12254901960784315,\n",
       " 0.12479575163398693,\n",
       " 0.1384803921568627,\n",
       " 0.14011437908496732,\n",
       " 0.1388888888888889,\n",
       " 0.13541666666666663,\n",
       " 0.14011437908496732,\n",
       " 0.13807189542483655,\n",
       " 0.130718954248366,\n",
       " 0.130718954248366,\n",
       " 0.12867647058823528,\n",
       " 0.11846405228758167,\n",
       " 0.14644607843137253,\n",
       " 0.1480800653594771,\n",
       " 0.159109477124183,\n",
       " 0.15992647058823523,\n",
       " 0.1578839869281045,\n",
       " 0.16441993464052285,\n",
       " 0.178921568627451,\n",
       " 0.17933006535947704,\n",
       " 0.19260620915032678,\n",
       " 0.2081290849673203,\n",
       " 0.18974673202614378,\n",
       " 0.18055555555555558,\n",
       " 0.1823937908496731,\n",
       " 0.17708333333333326,\n",
       " 0.17810457516339862,\n",
       " 0.18055555555555558,\n",
       " 0.17810457516339862,\n",
       " 0.17851307189542487,\n",
       " 0.196078431372549,\n",
       " 0.18913398692810457,\n",
       " 0.1895424836601307,\n",
       " 0.19403594771241828,\n",
       " 0.19444444444444442,\n",
       " 0.20200163398692816,\n",
       " 0.19771241830065356,\n",
       " 0.19934640522875813,\n",
       " 0.19873366013071891,\n",
       " 0.19975490196078427,\n",
       " 0.21282679738562094,\n",
       " 0.21568627450980393,\n",
       " 0.2044526143790849,\n",
       " 0.21772875816993464,\n",
       " 0.21098856209150318,\n",
       " 0.21425653594771243,\n",
       " 0.1975081699346406,\n",
       " 0.1881127450980392,\n",
       " 0.17851307189542487,\n",
       " 0.17381535947712412,\n",
       " 0.16033496732026142,\n",
       " 0.16564542483660127,\n",
       " 0.1711601307189542,\n",
       " 0.17422385620915026,\n",
       " 0.1803513071895424,\n",
       " 0.1740196078431372,\n",
       " 0.16278594771241828,\n",
       " 0.1697303921568627,\n",
       " 0.17810457516339862,\n",
       " 0.1703431372549019,\n",
       " 0.16830065359477125,\n",
       " 0.17279411764705876,\n",
       " 0.1754493464052288,\n",
       " 0.18382352941176472,\n",
       " 0.19138071895424835,\n",
       " 0.18913398692810457,\n",
       " 0.1909722222222222,\n",
       " 0.17238562091503273,\n",
       " 0.16830065359477125,\n",
       " 0.16932189542483655,\n",
       " 0.1717728758169934,\n",
       " 0.16156045751633985,\n",
       " 0.14971405228758167,\n",
       " 0.15032679738562088,\n",
       " 0.1519607843137255,\n",
       " 0.1472630718954248,\n",
       " 0.14501633986928103,\n",
       " 0.14603758169934639,\n",
       " 0.12479575163398693,\n",
       " 0.13112745098039214,\n",
       " 0.11397058823529405,\n",
       " 0.11907679738562088,\n",
       " 0.12377450980392157,\n",
       " 0.13562091503267976,\n",
       " 0.12908496732026142,\n",
       " 0.1345996732026144,\n",
       " 0.12806372549019607,\n",
       " 0.13031045751633985,\n",
       " 0.12724673202614373,\n",
       " 0.13521241830065356,\n",
       " 0.1452205882352941,\n",
       " 0.15257352941176466,\n",
       " 0.14848856209150324,\n",
       " 0.14338235294117646,\n",
       " 0.14562908496732024,\n",
       " 0.1523692810457516,\n",
       " 0.15400326797385622,\n",
       " 0.14971405228758167,\n",
       " 0.16217320261437906,\n",
       " 0.16319444444444448,\n",
       " 0.16584967320261434]"
      ]
     },
     "execution_count": 140,
     "metadata": {},
     "output_type": "execute_result"
    }
   ],
   "source": [
    "temp_input"
   ]
  },
  {
   "cell_type": "code",
   "execution_count": 141,
   "id": "acd4f564",
   "metadata": {},
   "outputs": [],
   "source": [
    "day_new=np.arange(1,101)\n",
    "day_pred=np.arange(101,131)"
   ]
  },
  {
   "cell_type": "code",
   "execution_count": 142,
   "id": "b8c7ed2e",
   "metadata": {},
   "outputs": [],
   "source": [
    "import matplotlib.pyplot as plt\n"
   ]
  },
  {
   "cell_type": "code",
   "execution_count": 143,
   "id": "cc0dedb9",
   "metadata": {},
   "outputs": [
    {
     "data": {
      "text/plain": [
       "2035"
      ]
     },
     "execution_count": 143,
     "metadata": {},
     "output_type": "execute_result"
    }
   ],
   "source": [
    "len(df1)\n"
   ]
  },
  {
   "cell_type": "code",
   "execution_count": 144,
   "id": "86f0661a",
   "metadata": {},
   "outputs": [
    {
     "data": {
      "text/plain": [
       "[<matplotlib.lines.Line2D at 0x21ce035f1f0>]"
      ]
     },
     "execution_count": 144,
     "metadata": {},
     "output_type": "execute_result"
    },
    {
     "data": {
      "image/png": "[encoded data removed]",
      "text/plain": [
       "<Figure size 432x288 with 1 Axes>"
      ]
     },
     "metadata": {
      "needs_background": "light"
     },
     "output_type": "display_data"
    }
   ],
   "source": [
    "df3=df1.tolist()\n",
    "df3.extend(lst_output)\n",
    "plt.plot(df3[1200:])"
   ]
  },
  {
   "cell_type": "code",
   "execution_count": 145,
   "id": "da85f836",
   "metadata": {},
   "outputs": [],
   "source": [
    "df3=scaler.inverse_transform(df3).tolist()\n"
   ]
  },
  {
   "cell_type": "code",
   "execution_count": 146,
   "id": "8e88f370",
   "metadata": {},
   "outputs": [
    {
     "data": {
      "text/plain": [
       "[<matplotlib.lines.Line2D at 0x21ce913faf0>]"
      ]
     },
     "execution_count": 146,
     "metadata": {},
     "output_type": "execute_result"
    },
    {
     "data": {
      "image/png": "[encoded data removed]",
      "text/plain": [
       "<Figure size 432x288 with 1 Axes>"
      ]
     },
     "metadata": {
      "needs_background": "light"
     },
     "output_type": "display_data"
    }
   ],
   "source": [
    "plt.plot(df3)\n"
   ]
  },
  {
   "cell_type": "code",
   "execution_count": null,
   "id": "b3aeacbf",
   "metadata": {},
   "outputs": [],
   "source": [
    "Thank You... The END !!!!"
   ]
  },
  {
   "cell_type": "code",
   "execution_count": null,
   "id": "1ae325aa",
   "metadata": {},
   "outputs": [],
   "source": []
  },
  {
   "cell_type": "code",
   "execution_count": null,
   "id": "90abb99e",
   "metadata": {},
   "outputs": [],
   "source": []
  },
  {
   "cell_type": "code",
   "execution_count": null,
   "id": "9d6eaa9d",
   "metadata": {},
   "outputs": [],
   "source": []
  }
 ],
 "metadata": {
  "kernelspec": {
   "display_name": "Python 3",
   "language": "python",
   "name": "python3"
  },
  "language_info": {
   "codemirror_mode": {
    "name": "ipython",
    "version": 3
   },
   "file_extension": ".py",
   "mimetype": "text/x-python",
   "name": "python",
   "nbconvert_exporter": "python",
   "pygments_lexer": "ipython3",
   "version": "3.8.8"
  }
 },
 "nbformat": 4,
 "nbformat_minor": 5
}
